{
 "cells": [
  {
   "attachments": {},
   "cell_type": "markdown",
   "metadata": {},
   "source": [
    "# DINO\n",
    "\n",
    "\n",
    "Dino is a method that comes under Self Supervised Learning, a type of learning where we dont need labels, rather the input to the model itself serves as a label.\n",
    "\n",
    "Reference Paper: [Emerging Properties in Self-Supervised Vision Transformers](https://arxiv.org/abs/2104.14294)"
   ]
  },
  {
   "cell_type": "code",
   "execution_count": null,
   "metadata": {},
   "outputs": [],
   "source": []
  }
 ],
 "metadata": {
  "language_info": {
   "name": "python"
  },
  "orig_nbformat": 4
 },
 "nbformat": 4,
 "nbformat_minor": 2
}
